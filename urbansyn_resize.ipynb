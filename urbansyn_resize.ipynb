{
 "cells": [
  {
   "cell_type": "code",
   "execution_count": 1,
   "metadata": {},
   "outputs": [],
   "source": [
    "from torch.utils.data import Dataset\n",
    "import albumentations as A\n",
    "\n",
    "import numpy as np\n",
    "from PIL import Image\n",
    "import os\n",
    "\n",
    "from tqdm.auto import tqdm"
   ]
  },
  {
   "cell_type": "code",
   "execution_count": 6,
   "metadata": {},
   "outputs": [],
   "source": [
    "NUM_CLASSES = 20\n",
    "NUM_TRAIN = 6016\n",
    "NUM_VAL = 7539 - 6016\n",
    "\n",
    "def shift_class_indices(segmap):\n",
    "    y = segmap + 1\n",
    "    y[y==NUM_CLASSES] = 0\n",
    "    return y\n",
    "\n",
    "\n",
    "def albumentation_transform(transforms, x, y):\n",
    "    transformed = transforms(image=x, mask=y)\n",
    "    return  transformed['image'], transformed['mask']\n",
    "\n",
    "\n",
    "class UrbanSynDataset(Dataset):\n",
    "    def __init__(self, path, transforms, split='train', resized=True, downscaling=4, shift_class_indices=False):\n",
    "        self.path = path\n",
    "        self.transforms = transforms\n",
    "        self.split = split\n",
    "        self.resized = resized\n",
    "        self.shift_class_indices = shift_class_indices\n",
    "        if self.resized:\n",
    "            size_str = str(1024//downscaling)\n",
    "            if not os.path.exists(os.path.join(self.path, size_str)):\n",
    "                self.path = os.path.join(self.path+'_resized', size_str)\n",
    "\n",
    "    def __getitem__(self, index):\n",
    "        if self.split=='val':\n",
    "            i = index + NUM_TRAIN + 1\n",
    "        else:\n",
    "            i = index + 1\n",
    "        if self.resized:\n",
    "            x = np.load(os.path.join(self.path, 'rgb', f'rgb_{i:04}.npy'))\n",
    "            y = np.load(os.path.join(self.path, 'ss', f'ss_{i:04}.npy'))\n",
    "        else:\n",
    "            x = np.array(Image.open(os.path.join(self.path, 'rgb', f'rgb_{i:04}.png')).convert('RGB'))\n",
    "            y = np.array(Image.open(os.path.join(self.path, 'ss', f'ss_{i:04}.png')).convert('L'))\n",
    "        x,y = albumentation_transform(self.transforms, x, y)\n",
    "        if self.shift_class_indices:\n",
    "            y = shift_class_indices(y)\n",
    "        return x,y\n",
    "    \n",
    "    def __len__(self):\n",
    "        if self.split=='train':\n",
    "            return NUM_TRAIN\n",
    "        elif self.split=='val':\n",
    "            return NUM_VAL\n",
    "        else:\n",
    "            return NUM_TRAIN+NUM_VAL"
   ]
  },
  {
   "cell_type": "code",
   "execution_count": null,
   "metadata": {},
   "outputs": [],
   "source": [
    "input_path = './data/urbansyn'\n",
    "output_path = './data/urbansyn_resized'\n",
    "\n",
    "size = np.array((1024, 2048))\n",
    "downsampling = [4, 2]\n",
    "os.makedirs(output_path, exist_ok=True)\n",
    "\n",
    "for ds in downsampling:\n",
    "    new_size = size//ds\n",
    "    dataset = UrbanSynDataset(input_path, transforms=A.Resize(*new_size), split='all', resized=False, shift_class_indices=True)\n",
    "\n",
    "    os.makedirs(os.path.join(output_path, str(new_size[0])), exist_ok=True)\n",
    "    rgb_path = os.path.join(output_path, str(new_size[0]), 'rgb')\n",
    "    os.makedirs(rgb_path, exist_ok=True)\n",
    "    ss_path = os.path.join(output_path, str(new_size[0]), 'ss')\n",
    "    os.makedirs(ss_path, exist_ok=True)\n",
    "    for i, (x, y) in tqdm(enumerate(dataset), total=len(dataset)):\n",
    "        np.save(os.path.join(rgb_path, f'rgb_{i+1:04}.npy'), x)\n",
    "        np.save(os.path.join(ss_path, f'ss_{i+1:04}.npy'), y)\n",
    "        if i == len(dataset)-1:\n",
    "            break"
   ]
  }
 ],
 "metadata": {
  "kernelspec": {
   "display_name": "cuda",
   "language": "python",
   "name": "python3"
  },
  "language_info": {
   "codemirror_mode": {
    "name": "ipython",
    "version": 3
   },
   "file_extension": ".py",
   "mimetype": "text/x-python",
   "name": "python",
   "nbconvert_exporter": "python",
   "pygments_lexer": "ipython3",
   "version": "3.11.9"
  }
 },
 "nbformat": 4,
 "nbformat_minor": 2
}
